{
 "cells": [
  {
   "cell_type": "code",
   "execution_count": null,
   "metadata": {},
   "outputs": [],
   "source": [
    "AdjacentList = []\n",
    "\n",
    "with open ('rosalind_tree.txt', 'rt') as myfile:  \n",
    "    for line in myfile:                                \n",
    "        AdjacentList.append(line.rstrip('\\n'))\n",
    "\n",
    "print( int(AdjacentList.pop(0)) - 1 - len(AdjacentList))"
   ]
  }
 ],
 "metadata": {
  "kernelspec": {
   "display_name": "Python 3",
   "language": "python",
   "name": "python3"
  },
  "language_info": {
   "codemirror_mode": {
    "name": "ipython",
    "version": 3
   },
   "file_extension": ".py",
   "mimetype": "text/x-python",
   "name": "python",
   "nbconvert_exporter": "python",
   "pygments_lexer": "ipython3",
   "version": "3.8.3"
  }
 },
 "nbformat": 4,
 "nbformat_minor": 4
}
