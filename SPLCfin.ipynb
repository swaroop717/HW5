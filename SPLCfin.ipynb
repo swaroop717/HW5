{
 "cells": [
  {
   "cell_type": "code",
   "execution_count": 25,
   "metadata": {},
   "outputs": [],
   "source": [
    "from Bio import SeqIO\n",
    "\n",
    "fasta_sequences = SeqIO.parse(open('rosalind_splc (1).txt'),'fasta')"
   ]
  },
  {
   "cell_type": "code",
   "execution_count": 26,
   "metadata": {},
   "outputs": [],
   "source": [
    "coding_table = {\n",
    "    'TCT': 'S', 'TCC': 'S', 'TCA': 'S', 'TCG': 'S', 'AGC':'S','AGT':'S',\n",
    "    'TTT': 'F', 'TTC': 'F',\n",
    "    'TTA': 'L', 'TTG': 'L', 'CTT': 'L', 'CTC': 'L', 'CTA': 'L', 'CTG': 'L',\n",
    "    'TAT': 'Y', 'TAC': 'Y',\n",
    "    'TGT': 'C', 'TGC': 'C',\n",
    "    'TGG': 'W', \n",
    "    'CCT': 'P', 'CCC': 'P', 'CCA': 'P', 'CCG': 'P',\n",
    "    'CAT': 'H', 'CAC': 'H',\n",
    "    'CAA': 'Q', 'CAG': 'Q',\n",
    "    'CGT': 'R', 'CGC': 'R', 'CGA': 'R', 'CGG': 'R', 'AGA': 'R', 'AGG': 'R',\n",
    "    'ATT': 'I', 'ATC': 'I', 'ATA': 'I',\n",
    "    'ATG': 'M', \n",
    "    'ACT': 'T', 'ACC': 'T', 'ACA': 'T', 'ACG': 'T', \n",
    "    'AAT': 'N', 'AAC': 'N', \n",
    "    'AAA': 'K', 'AAG': 'K',\n",
    "    'GTT': 'V', 'GTC': 'V', 'GTA': 'V', 'GTG': 'V',\n",
    "    'GCT': 'A', 'GCC': 'A', 'GCA': 'A', 'GCG': 'A',\n",
    "    'GAT': 'D', 'GAC': 'D',\n",
    "    'GAA': 'E', 'GAG': 'E',\n",
    "    'GGT': 'G', 'GGC': 'G', 'GGA': 'G', 'GGG': 'G',\n",
    "    'TAA': 'end', 'TAG': 'end', 'TGA': 'end'\n",
    "}"
   ]
  },
  {
   "cell_type": "code",
   "execution_count": 27,
   "metadata": {},
   "outputs": [],
   "source": [
    "s_id =[]\n",
    "s_seq = []\n",
    "\n",
    "for fasta in fasta_sequences:\n",
    "    s_id.append(fasta.id)\n",
    "    s_seq.append(str(fasta.seq))"
   ]
  },
  {
   "cell_type": "code",
   "execution_count": 28,
   "metadata": {},
   "outputs": [],
   "source": [
    "dna = s_seq[0]\n",
    "introns = s_seq[1:]\n",
    "protein = ''\n",
    "for intron in introns:\n",
    "    dna= dna.replace(intron,\"\")"
   ]
  },
  {
   "cell_type": "code",
   "execution_count": 29,
   "metadata": {},
   "outputs": [
    {
     "name": "stdout",
     "output_type": "stream",
     "text": [
      "MGRCLIPNLAACDILGTDSSYLPRSTIITPLTHYGRGPRFRAGTITPSVNARSKISSHWLEVKGSRRECKRVDSFVSSSKVPAFQYYYLIWWFGPLSFRIYSRAFEQIANGRERKTDLQYKCPVRRSDVTSDIMEITPLYFLRRSVTTIFSATIQTGSSPDSPSRARLLRIIFIQQLLK\n"
     ]
    }
   ],
   "source": [
    "for t in [dna[i:i+3] for i in range(0,len(dna),3)]:\n",
    "    if coding_table[t]=='end':\n",
    "        break\n",
    "    protein += coding_table[t]\n",
    "print(protein)"
   ]
  },
  {
   "cell_type": "code",
   "execution_count": null,
   "metadata": {},
   "outputs": [],
   "source": []
  }
 ],
 "metadata": {
  "kernelspec": {
   "display_name": "Python 3",
   "language": "python",
   "name": "python3"
  },
  "language_info": {
   "codemirror_mode": {
    "name": "ipython",
    "version": 3
   },
   "file_extension": ".py",
   "mimetype": "text/x-python",
   "name": "python",
   "nbconvert_exporter": "python",
   "pygments_lexer": "ipython3",
   "version": "3.8.3"
  }
 },
 "nbformat": 4,
 "nbformat_minor": 2
}
