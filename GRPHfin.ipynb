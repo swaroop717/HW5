{
 "cells": [
  {
   "cell_type": "code",
   "execution_count": 4,
   "metadata": {},
   "outputs": [],
   "source": [
    "from Bio import SeqIO\n",
    "pfix = {}\n",
    "sfix = {}\n",
    "fa = open(\"rosalind_grph.txt\")\n",
    "for seq_record in SeqIO.parse(fa,\"fasta\"):\n",
    "    pref = str(seq_record.seq[0:3])\n",
    "    suff = str(seq_record.seq[-3:])\n",
    "    if pref not in pfix:\n",
    "        pfix[pref]=[]\n",
    "    if suff not in sfix:\n",
    "        sfix[suff]=[]\n",
    "    pfix[pref].append(seq_record.id)\n",
    "    sfix[suff].append(seq_record.id)"
   ]
  },
  {
   "cell_type": "code",
   "execution_count": null,
   "metadata": {},
   "outputs": [],
   "source": [
    "for i in suffix:\n",
    "    if i in prefix:\n",
    "        for j in suffix[i]:\n",
    "            for k in prefix[i]:\n",
    "                if j != k:\n",
    "                    print(j,k)"
   ]
  },
  {
   "cell_type": "code",
   "execution_count": null,
   "metadata": {},
   "outputs": [],
   "source": []
  }
 ],
 "metadata": {
  "kernelspec": {
   "display_name": "Python 3",
   "language": "python",
   "name": "python3"
  },
  "language_info": {
   "codemirror_mode": {
    "name": "ipython",
    "version": 3
   },
   "file_extension": ".py",
   "mimetype": "text/x-python",
   "name": "python",
   "nbconvert_exporter": "python",
   "pygments_lexer": "ipython3",
   "version": "3.8.3"
  }
 },
 "nbformat": 4,
 "nbformat_minor": 4
}
