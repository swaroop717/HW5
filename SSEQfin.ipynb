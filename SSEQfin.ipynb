{
 "cells": [
  {
   "cell_type": "code",
   "execution_count": 6,
   "metadata": {},
   "outputs": [],
   "source": [
    "from Bio import SeqIO\n",
    "def find_spliced_motif(a, b):\n",
    "    res=[0 for x in b]\n",
    "    i=0\n",
    "    j=0\n",
    "    while i <= len(a):\n",
    "        if a[i]==b[j]:\n",
    "            res[j]=str(i+1)\n",
    "            i += 1\n",
    "            j += 1\n",
    "            if j==len(b):\n",
    "                break\n",
    "        else:\n",
    "            i += 1\n",
    "    print(' '.join(res))"
   ]
  },
  {
   "cell_type": "code",
   "execution_count": null,
   "metadata": {},
   "outputs": [],
   "source": [
    "if __name__ == \"__main__\":\n",
    "    seq_name, seq_string = [], []\n",
    "    with open (\"rosalind_sseq.txt\",'r') as fa:\n",
    "        for seq_record  in SeqIO.parse(fa,'fasta'):\n",
    "            seq_name.append(str(seq_record.name))\n",
    "            seq_string.append(str(seq_record.seq))\n",
    "    a, b = seq_string[0], seq_string[1]\n",
    "    find_spliced_motif(a,b)"
   ]
  }
 ],
 "metadata": {
  "kernelspec": {
   "display_name": "Python 3",
   "language": "python",
   "name": "python3"
  },
  "language_info": {
   "codemirror_mode": {
    "name": "ipython",
    "version": 3
   },
   "file_extension": ".py",
   "mimetype": "text/x-python",
   "name": "python",
   "nbconvert_exporter": "python",
   "pygments_lexer": "ipython3",
   "version": "3.8.3"
  }
 },
 "nbformat": 4,
 "nbformat_minor": 4
}
