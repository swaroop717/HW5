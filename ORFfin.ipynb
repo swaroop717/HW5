{
 "cells": [
  {
   "cell_type": "code",
   "execution_count": 30,
   "metadata": {},
   "outputs": [],
   "source": [
    "from Bio import SeqIO\n",
    "gencode = { 'ATA':'I', 'ATC':'I', 'ATT':'I', 'ATG':'M', \n",
    "            'ACA':'T', 'ACC':'T', 'ACG':'T', 'ACT':'T', \n",
    "            'AAC':'N', 'AAT':'N', 'AAA':'K', 'AAG':'K', \n",
    "            'AGC':'S', 'AGT':'S', 'AGA':'R', 'AGG':'R',                  \n",
    "            'CTA':'L', 'CTC':'L', 'CTG':'L', 'CTT':'L', \n",
    "            'CCA':'P', 'CCC':'P', 'CCG':'P', 'CCT':'P', \n",
    "            'CAC':'H', 'CAT':'H', 'CAA':'Q', 'CAG':'Q', \n",
    "            'CGA':'R', 'CGC':'R', 'CGG':'R', 'CGT':'R', \n",
    "            'GTA':'V', 'GTC':'V', 'GTG':'V', 'GTT':'V', \n",
    "            'GCA':'A', 'GCC':'A', 'GCG':'A', 'GCT':'A', \n",
    "            'GAC':'D', 'GAT':'D', 'GAA':'E', 'GAG':'E', \n",
    "            'GGA':'G', 'GGC':'G', 'GGG':'G', 'GGT':'G', \n",
    "            'TCA':'S', 'TCC':'S', 'TCG':'S', 'TCT':'S', \n",
    "            'TTC':'F', 'TTT':'F', 'TTA':'L', 'TTG':'L', \n",
    "            'TAC':'Y', 'TAT':'Y', 'TAA':'_', 'TAG':'_', \n",
    "            'TGC':'C', 'TGT':'C', 'TGA':'_', 'TGG':'W'}\n",
    "proteins = []"
   ]
  },
  {
   "cell_type": "code",
   "execution_count": null,
   "metadata": {},
   "outputs": [],
   "source": [
    "fa = open(\"rosalind_orf.txt\", \"r\")\n",
    "for seq_record in SeqIO.parse(fa, \"fasta\"):\n",
    "    s_frame = str(seq_record.seq.strip())\n",
    "    c_frame = s_frame.replace(\"A\", \"t\").replace(\"T\", \"a\").replace(\"C\", \"g\").replace(\"G\", \"c\").upper()[::-1]\n",
    "    frames = [s_frame, c_frame]\n",
    "    for fr in frames:\n",
    "        for i in range(len(fr)-2):\n",
    "            codon = fr[i:i+3]\n",
    "            if codon == 'ATG':\n",
    "                p = ''\n",
    "                f=fr[i:]\n",
    "                start = 0\n",
    "                for j in range(len(f)//3):\n",
    "                    cod = f[start:start+3]\n",
    "                    start+=3\n",
    "                    p += gencode[cod]\n",
    "                    if \"_\" in p:\n",
    "                        proteins.append(p.split(\"_\")[0])\n",
    "for p in set(proteins):\n",
    "    print(p)"
   ]
  },
  {
   "cell_type": "code",
   "execution_count": null,
   "metadata": {},
   "outputs": [],
   "source": []
  }
 ],
 "metadata": {
  "kernelspec": {
   "display_name": "Python 3",
   "language": "python",
   "name": "python3"
  },
  "language_info": {
   "codemirror_mode": {
    "name": "ipython",
    "version": 3
   },
   "file_extension": ".py",
   "mimetype": "text/x-python",
   "name": "python",
   "nbconvert_exporter": "python",
   "pygments_lexer": "ipython3",
   "version": "3.8.3"
  }
 },
 "nbformat": 4,
 "nbformat_minor": 4
}
