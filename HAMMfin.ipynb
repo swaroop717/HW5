{
 "cells": [
  {
   "cell_type": "code",
   "execution_count": null,
   "metadata": {},
   "outputs": [],
   "source": [
    "f = open('rosalind_hamm.txt')\n",
    "s1 = f.readline().strip()\n",
    "s2 = f.readline().strip()\n",
    "ctr=0\n",
    "for i in range(len(s1)):\n",
    "    if s1[i] != s2[i]:\n",
    "        ctr+=1\n",
    "print(ctr)  "
   ]
  }
 ],
 "metadata": {
  "kernelspec": {
   "display_name": "Python 3",
   "language": "python",
   "name": "python3"
  },
  "language_info": {
   "codemirror_mode": {
    "name": "ipython",
    "version": 3
   },
   "file_extension": ".py",
   "mimetype": "text/x-python",
   "name": "python",
   "nbconvert_exporter": "python",
   "pygments_lexer": "ipython3",
   "version": "3.8.3"
  }
 },
 "nbformat": 4,
 "nbformat_minor": 4
}
