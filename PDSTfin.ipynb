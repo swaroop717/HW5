{
 "cells": [
  {
   "cell_type": "code",
   "execution_count": 12,
   "metadata": {},
   "outputs": [],
   "source": [
    "string_list = []\n",
    "unwanted_items_list =[] \n",
    "clean_string_list = [] * len(unwanted_items_list)\n",
    "with open ('rosalind_pdst.txt', 'rt') as myfile:  \n",
    "    x = 0   \n",
    "    for line in myfile:                   \n",
    "        x=x+1\n",
    "        if line.startswith(\">\"):\n",
    "            string_list.append(line.rstrip('\\n'))\n",
    "            unwanted_items_list.append(x-1)\n",
    "        else:\n",
    "            string_list.append(line.rstrip('\\n'))"
   ]
  },
  {
   "cell_type": "code",
   "execution_count": 13,
   "metadata": {},
   "outputs": [],
   "source": [
    "if unwanted_items_list:\n",
    "    def joined_list(a,b):\n",
    "        returnable = ''.join(string_list[a:b])\n",
    "        return returnable\n",
    "\n",
    "    for i in range(len(unwanted_items_list)):\n",
    "        start_index = unwanted_items_list[i]+1\n",
    "        if i < len(unwanted_items_list)-1:\n",
    "            end_index = unwanted_items_list[i+1]\n",
    "        else:\n",
    "            end_index = len(string_list)\n",
    "        clean_string_list.append(joined_list(start_index,end_index))\n",
    "else:\n",
    "    clean_string_list = string_list"
   ]
  },
  {
   "cell_type": "code",
   "execution_count": 14,
   "metadata": {},
   "outputs": [],
   "source": [
    "def hamming_distance(string1,string2):\n",
    "    hamming_distance =0 \n",
    "    for i in range(len(string1)):\n",
    "        if string1[i] != string2[i]:\n",
    "            hamming_distance = hamming_distance + 1\n",
    "        else:\n",
    "            pass\n",
    "    return hamming_distance"
   ]
  },
  {
   "cell_type": "code",
   "execution_count": null,
   "metadata": {},
   "outputs": [],
   "source": [
    "def p_index(hd):\n",
    "    p_index = hd/len(clean_string_list[0])\n",
    "    return p_index\n",
    "Matrix=[]\n",
    "for x in range(len(clean_string_list)):\n",
    "    for y in range(len(clean_string_list)):     \n",
    "        hd = hamming_distance(clean_string_list[x],clean_string_list[y])\n",
    "        pd = p_index(hd)\n",
    "        Matrix.append(format(pd,'.5f'))\n",
    "    Matrix.append(\"\\n\")\n",
    "print(*Matrix)"
   ]
  }
 ],
 "metadata": {
  "kernelspec": {
   "display_name": "Python 3",
   "language": "python",
   "name": "python3"
  },
  "language_info": {
   "codemirror_mode": {
    "name": "ipython",
    "version": 3
   },
   "file_extension": ".py",
   "mimetype": "text/x-python",
   "name": "python",
   "nbconvert_exporter": "python",
   "pygments_lexer": "ipython3",
   "version": "3.8.3"
  }
 },
 "nbformat": 4,
 "nbformat_minor": 4
}
