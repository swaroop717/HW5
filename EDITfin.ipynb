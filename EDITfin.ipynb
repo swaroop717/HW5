{
 "cells": [
  {
   "cell_type": "code",
   "execution_count": 22,
   "metadata": {},
   "outputs": [],
   "source": [
    "from Bio import SeqIO\n",
    "seq_name, seq_string = [], []\n",
    "fa = open(\"rosalind_edit.txt\", \"r\")\n",
    "for seq_record in SeqIO.parse(fa, \"fasta\"):\n",
    "    seq_name.append(seq_record.name)\n",
    "    seq_string.append(str(seq_record.seq))\n",
    "s,t= seq_string"
   ]
  },
  {
   "cell_type": "code",
   "execution_count": 23,
   "metadata": {},
   "outputs": [],
   "source": [
    "n = len(s)\n",
    "m = len(t)\n",
    "q = []\n",
    "for k in range(n + 1):\n",
    "    q.append([0]*(m+1))\n",
    "for i in range(n + 1):\n",
    "    q[i][0] = i\n",
    "for j in range(m + 1):\n",
    "    q[0][j] = j"
   ]
  },
  {
   "cell_type": "code",
   "execution_count": 24,
   "metadata": {},
   "outputs": [
    {
     "name": "stdout",
     "output_type": "stream",
     "text": [
      "353\n"
     ]
    }
   ],
   "source": [
    "for o in range(1, n + 1):\n",
    "    for p in range(1, m + 1):\n",
    "        l = q[o - 1][p] + 1\n",
    "        d = q[o][p - 1] + 1\n",
    "        ld = q[o - 1][p - 1] \n",
    "        if s[o - 1] != t[p - 1]:\n",
    "            ld += 1\n",
    "        q[o][p] = min(l, d, ld)\n",
    "print(q[n][m])"
   ]
  }
 ],
 "metadata": {
  "kernelspec": {
   "display_name": "Python 3",
   "language": "python",
   "name": "python3"
  },
  "language_info": {
   "codemirror_mode": {
    "name": "ipython",
    "version": 3
   },
   "file_extension": ".py",
   "mimetype": "text/x-python",
   "name": "python",
   "nbconvert_exporter": "python",
   "pygments_lexer": "ipython3",
   "version": "3.8.3"
  }
 },
 "nbformat": 4,
 "nbformat_minor": 4
}
