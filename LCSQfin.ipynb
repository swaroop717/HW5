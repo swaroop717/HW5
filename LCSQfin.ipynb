{
 "cells": [
  {
   "cell_type": "code",
   "execution_count": null,
   "metadata": {},
   "outputs": [],
   "source": [
    "from Bio import SeqIO\n",
    "seq_string = []\n",
    "handle = open('rosalind_revp.txt', 'r')\n",
    "for seq_record in SeqIO.parse(handle, \"fasta\"):\n",
    "     seq_string.append(str(seq_record.seq))\n",
    "s = seq_string[0]\n",
    "t = seq_string[1]"
   ]
  },
  {
   "cell_type": "code",
   "execution_count": 9,
   "metadata": {},
   "outputs": [],
   "source": [
    "lengths = [[0 for j in range(len(t) + 1)] for i in range(len(s) + 1)]\n",
    "for i, x in enumerate(s):\n",
    "    for j, y in enumerate(t):\n",
    "        if x == y:\n",
    "            lengths[i + 1][j + 1] = lengths[i][j] + 1\n",
    "        else:\n",
    "            lengths[i + 1][j + 1] = max(lengths[i + 1][j], lengths[i][j + 1])\n"
   ]
  },
  {
   "cell_type": "code",
   "execution_count": null,
   "metadata": {},
   "outputs": [],
   "source": [
    "res = ''\n",
    "l1, l2 = len(s), len(t)\n",
    "while(l1 * l2 != 0):\n",
    "    if lengths[l1][l2] == lengths[l1 - 1][l2]:\n",
    "        l1 -= 1\n",
    "    elif lengths[l1][l2] == lengths[l1][l2 - 1]:\n",
    "        l2 -= 1\n",
    "    else:\n",
    "        res = s[l1 - 1] + res\n",
    "        l1 -= 1\n",
    "        l2 -= 1\n",
    "print(res)"
   ]
  }
 ],
 "metadata": {
  "kernelspec": {
   "display_name": "Python 3",
   "language": "python",
   "name": "python3"
  },
  "language_info": {
   "codemirror_mode": {
    "name": "ipython",
    "version": 3
   },
   "file_extension": ".py",
   "mimetype": "text/x-python",
   "name": "python",
   "nbconvert_exporter": "python",
   "pygments_lexer": "ipython3",
   "version": "3.8.3"
  }
 },
 "nbformat": 4,
 "nbformat_minor": 4
}
