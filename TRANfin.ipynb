{
 "cells": [
  {
   "cell_type": "code",
   "execution_count": 5,
   "metadata": {},
   "outputs": [],
   "source": [
    "from Bio import SeqIO\n",
    "seq_name, seq_string = [], []\n",
    "f = open(\"rosalind_tran (1).txt\",'r')\n",
    "for seq_record  in SeqIO.parse(f,'fasta'):\n",
    "    seq_name.append(str(seq_record.name))\n",
    "    seq_string.append(str(seq_record.seq))\n",
    "s1, s2 = seq_string"
   ]
  },
  {
   "cell_type": "code",
   "execution_count": 6,
   "metadata": {},
   "outputs": [
    {
     "name": "stdout",
     "output_type": "stream",
     "text": [
      "2.35\n"
     ]
    }
   ],
   "source": [
    "transition = [('A', 'G'), ('T', 'C'), ('C', 'T'), ('G', 'A')]\n",
    "transversions = [('A', 'T'), ('A', 'C'), ('T', 'A'), ('T', 'G'), ('C', 'A'), ('C', 'G'), ('G', 'T'), ('G', 'C')]\n",
    "transit, transverse = 0, 0\n",
    "for i in range(len(s1)):\n",
    "    if (s1[i], s2[i]) in transition:\n",
    "        transit += 1\n",
    "    if (s1[i], s2[i]) in transversions:\n",
    "        transverse += 1\n",
    "print(transition_c/transversions_c)"
   ]
  }
 ],
 "metadata": {
  "kernelspec": {
   "display_name": "Python 3",
   "language": "python",
   "name": "python3"
  },
  "language_info": {
   "codemirror_mode": {
    "name": "ipython",
    "version": 3
   },
   "file_extension": ".py",
   "mimetype": "text/x-python",
   "name": "python",
   "nbconvert_exporter": "python",
   "pygments_lexer": "ipython3",
   "version": "3.8.3"
  }
 },
 "nbformat": 4,
 "nbformat_minor": 4
}
